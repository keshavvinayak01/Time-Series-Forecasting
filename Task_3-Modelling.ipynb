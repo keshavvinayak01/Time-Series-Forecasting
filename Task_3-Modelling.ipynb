{
 "cells": [
  {
   "cell_type": "markdown",
   "metadata": {},
   "source": [
    "# Part 1 : Data Analysis and Feature Engineering"
   ]
  },
  {
   "cell_type": "code",
   "execution_count": 82,
   "metadata": {},
   "outputs": [],
   "source": [
    "import pandas as pd\n",
    "import numpy as np"
   ]
  },
  {
   "cell_type": "code",
   "execution_count": 58,
   "metadata": {},
   "outputs": [],
   "source": [
    "nifty = pd.read_csv('dataset/data_with_features/nifty.csv')"
   ]
  },
  {
   "cell_type": "code",
   "execution_count": 59,
   "metadata": {},
   "outputs": [
    {
     "data": {
      "text/html": [
       "<div>\n",
       "<style scoped>\n",
       "    .dataframe tbody tr th:only-of-type {\n",
       "        vertical-align: middle;\n",
       "    }\n",
       "\n",
       "    .dataframe tbody tr th {\n",
       "        vertical-align: top;\n",
       "    }\n",
       "\n",
       "    .dataframe thead th {\n",
       "        text-align: right;\n",
       "    }\n",
       "</style>\n",
       "<table border=\"1\" class=\"dataframe\">\n",
       "  <thead>\n",
       "    <tr style=\"text-align: right;\">\n",
       "      <th></th>\n",
       "      <th>Date</th>\n",
       "      <th>Date.1</th>\n",
       "      <th>Open</th>\n",
       "      <th>High</th>\n",
       "      <th>Low</th>\n",
       "      <th>Close</th>\n",
       "      <th>Volume</th>\n",
       "      <th>Turnover</th>\n",
       "      <th>Year</th>\n",
       "      <th>Month</th>\n",
       "      <th>...</th>\n",
       "      <th>vol_(t+1)</th>\n",
       "      <th>volume_shock</th>\n",
       "      <th>VOL_SHOCK_DIR</th>\n",
       "      <th>price_t+1</th>\n",
       "      <th>price_shock</th>\n",
       "      <th>price_black_swan</th>\n",
       "      <th>PRICE_SHOCK_DIR</th>\n",
       "      <th>BLACK_SWAN_SHOCK_DIR</th>\n",
       "      <th>not_vol_shock</th>\n",
       "      <th>price_shock_w/0_vol_shock</th>\n",
       "    </tr>\n",
       "  </thead>\n",
       "  <tbody>\n",
       "    <tr>\n",
       "      <th>0</th>\n",
       "      <td>2015-01-01</td>\n",
       "      <td>2015-01-01</td>\n",
       "      <td>11214.80</td>\n",
       "      <td>11235.75</td>\n",
       "      <td>11166.35</td>\n",
       "      <td>11215.70</td>\n",
       "      <td>4246150</td>\n",
       "      <td>3.575100e+09</td>\n",
       "      <td>2015</td>\n",
       "      <td>1</td>\n",
       "      <td>...</td>\n",
       "      <td>10004862.0</td>\n",
       "      <td>1</td>\n",
       "      <td>1.0</td>\n",
       "      <td>11372.10</td>\n",
       "      <td>0</td>\n",
       "      <td>0</td>\n",
       "      <td>NaN</td>\n",
       "      <td>NaN</td>\n",
       "      <td>0</td>\n",
       "      <td>0</td>\n",
       "    </tr>\n",
       "    <tr>\n",
       "      <th>1</th>\n",
       "      <td>2015-01-02</td>\n",
       "      <td>2015-01-02</td>\n",
       "      <td>11214.65</td>\n",
       "      <td>11399.10</td>\n",
       "      <td>11214.65</td>\n",
       "      <td>11372.10</td>\n",
       "      <td>10004862</td>\n",
       "      <td>9.645600e+09</td>\n",
       "      <td>2015</td>\n",
       "      <td>1</td>\n",
       "      <td>...</td>\n",
       "      <td>10004862.0</td>\n",
       "      <td>0</td>\n",
       "      <td>NaN</td>\n",
       "      <td>11372.10</td>\n",
       "      <td>0</td>\n",
       "      <td>0</td>\n",
       "      <td>NaN</td>\n",
       "      <td>NaN</td>\n",
       "      <td>1</td>\n",
       "      <td>0</td>\n",
       "    </tr>\n",
       "    <tr>\n",
       "      <th>2</th>\n",
       "      <td>2015-01-03</td>\n",
       "      <td>2015-01-02</td>\n",
       "      <td>11214.65</td>\n",
       "      <td>11399.10</td>\n",
       "      <td>11214.65</td>\n",
       "      <td>11372.10</td>\n",
       "      <td>10004862</td>\n",
       "      <td>9.645600e+09</td>\n",
       "      <td>2015</td>\n",
       "      <td>1</td>\n",
       "      <td>...</td>\n",
       "      <td>10004862.0</td>\n",
       "      <td>0</td>\n",
       "      <td>NaN</td>\n",
       "      <td>11372.10</td>\n",
       "      <td>0</td>\n",
       "      <td>0</td>\n",
       "      <td>NaN</td>\n",
       "      <td>NaN</td>\n",
       "      <td>1</td>\n",
       "      <td>0</td>\n",
       "    </tr>\n",
       "    <tr>\n",
       "      <th>3</th>\n",
       "      <td>2015-01-04</td>\n",
       "      <td>2015-01-02</td>\n",
       "      <td>11214.65</td>\n",
       "      <td>11399.10</td>\n",
       "      <td>11214.65</td>\n",
       "      <td>11372.10</td>\n",
       "      <td>10004862</td>\n",
       "      <td>9.645600e+09</td>\n",
       "      <td>2015</td>\n",
       "      <td>1</td>\n",
       "      <td>...</td>\n",
       "      <td>8858018.0</td>\n",
       "      <td>1</td>\n",
       "      <td>0.0</td>\n",
       "      <td>11248.55</td>\n",
       "      <td>0</td>\n",
       "      <td>0</td>\n",
       "      <td>NaN</td>\n",
       "      <td>NaN</td>\n",
       "      <td>0</td>\n",
       "      <td>0</td>\n",
       "    </tr>\n",
       "    <tr>\n",
       "      <th>4</th>\n",
       "      <td>2015-01-05</td>\n",
       "      <td>2015-01-05</td>\n",
       "      <td>11369.35</td>\n",
       "      <td>11433.75</td>\n",
       "      <td>11186.95</td>\n",
       "      <td>11248.55</td>\n",
       "      <td>8858018</td>\n",
       "      <td>1.059000e+10</td>\n",
       "      <td>2015</td>\n",
       "      <td>1</td>\n",
       "      <td>...</td>\n",
       "      <td>12515739.0</td>\n",
       "      <td>1</td>\n",
       "      <td>1.0</td>\n",
       "      <td>10959.90</td>\n",
       "      <td>1</td>\n",
       "      <td>1</td>\n",
       "      <td>0.0</td>\n",
       "      <td>0.0</td>\n",
       "      <td>0</td>\n",
       "      <td>0</td>\n",
       "    </tr>\n",
       "  </tbody>\n",
       "</table>\n",
       "<p>5 rows × 22 columns</p>\n",
       "</div>"
      ],
      "text/plain": [
       "         Date      Date.1      Open      High       Low     Close    Volume  \\\n",
       "0  2015-01-01  2015-01-01  11214.80  11235.75  11166.35  11215.70   4246150   \n",
       "1  2015-01-02  2015-01-02  11214.65  11399.10  11214.65  11372.10  10004862   \n",
       "2  2015-01-03  2015-01-02  11214.65  11399.10  11214.65  11372.10  10004862   \n",
       "3  2015-01-04  2015-01-02  11214.65  11399.10  11214.65  11372.10  10004862   \n",
       "4  2015-01-05  2015-01-05  11369.35  11433.75  11186.95  11248.55   8858018   \n",
       "\n",
       "       Turnover  Year  Month  ...   vol_(t+1)  volume_shock  VOL_SHOCK_DIR  \\\n",
       "0  3.575100e+09  2015      1  ...  10004862.0             1            1.0   \n",
       "1  9.645600e+09  2015      1  ...  10004862.0             0            NaN   \n",
       "2  9.645600e+09  2015      1  ...  10004862.0             0            NaN   \n",
       "3  9.645600e+09  2015      1  ...   8858018.0             1            0.0   \n",
       "4  1.059000e+10  2015      1  ...  12515739.0             1            1.0   \n",
       "\n",
       "   price_t+1  price_shock  price_black_swan  PRICE_SHOCK_DIR  \\\n",
       "0   11372.10            0                 0              NaN   \n",
       "1   11372.10            0                 0              NaN   \n",
       "2   11372.10            0                 0              NaN   \n",
       "3   11248.55            0                 0              NaN   \n",
       "4   10959.90            1                 1              0.0   \n",
       "\n",
       "   BLACK_SWAN_SHOCK_DIR  not_vol_shock  price_shock_w/0_vol_shock  \n",
       "0                   NaN              0                          0  \n",
       "1                   NaN              1                          0  \n",
       "2                   NaN              1                          0  \n",
       "3                   NaN              0                          0  \n",
       "4                   0.0              0                          0  \n",
       "\n",
       "[5 rows x 22 columns]"
      ]
     },
     "execution_count": 59,
     "metadata": {},
     "output_type": "execute_result"
    }
   ],
   "source": [
    "nifty.head()"
   ]
  },
  {
   "cell_type": "code",
   "execution_count": 60,
   "metadata": {},
   "outputs": [],
   "source": [
    "nifty = nifty.drop(\"Date.1\", axis=1)"
   ]
  },
  {
   "cell_type": "code",
   "execution_count": 65,
   "metadata": {},
   "outputs": [],
   "source": [
    "def scale_down(a,scale_up=100):\n",
    "    return scale_up*(a - min(a)) / (max(a) - min(a))"
   ]
  },
  {
   "cell_type": "code",
   "execution_count": 62,
   "metadata": {},
   "outputs": [],
   "source": [
    "nifty['Volume'] = scale_down(nifty['Volume'])"
   ]
  },
  {
   "cell_type": "code",
   "execution_count": 66,
   "metadata": {},
   "outputs": [],
   "source": [
    "nifty['Turnover'] = scale_down(nifty['Turnover'])"
   ]
  },
  {
   "cell_type": "code",
   "execution_count": 70,
   "metadata": {},
   "outputs": [],
   "source": [
    "nifty['vol_(t+1)'] = scale_down(nifty['vol_(t+1)'])"
   ]
  },
  {
   "cell_type": "code",
   "execution_count": 78,
   "metadata": {},
   "outputs": [],
   "source": [
    "nifty = nifty[:-1]"
   ]
  },
  {
   "cell_type": "code",
   "execution_count": 80,
   "metadata": {},
   "outputs": [
    {
     "data": {
      "text/plain": [
       "Index(['Date', 'Open', 'High', 'Low', 'Close', 'Volume', 'Turnover', 'Year',\n",
       "       'Month', 'Day', 'WeekOfYear', 'vol_(t+1)', 'volume_shock',\n",
       "       'VOL_SHOCK_DIR', 'price_t+1', 'price_shock', 'price_black_swan',\n",
       "       'PRICE_SHOCK_DIR', 'BLACK_SWAN_SHOCK_DIR', 'not_vol_shock',\n",
       "       'price_shock_w/0_vol_shock'],\n",
       "      dtype='object')"
      ]
     },
     "execution_count": 80,
     "metadata": {},
     "output_type": "execute_result"
    }
   ],
   "source": [
    "nifty.columns"
   ]
  },
  {
   "cell_type": "code",
   "execution_count": 96,
   "metadata": {},
   "outputs": [],
   "source": [
    "columns = list(nifty.columns)"
   ]
  },
  {
   "cell_type": "code",
   "execution_count": 104,
   "metadata": {},
   "outputs": [
    {
     "name": "stdout",
     "output_type": "stream",
     "text": [
      "NaN count for Open:  0\n",
      "NaN count for High:  0\n",
      "NaN count for Low:  0\n",
      "NaN count for Close:  0\n",
      "NaN count for Volume:  0\n",
      "NaN count for Turnover:  0\n",
      "NaN count for Year:  0\n",
      "NaN count for Month:  0\n",
      "NaN count for Day:  0\n",
      "NaN count for WeekOfYear:  0\n",
      "NaN count for vol_(t+1):  0\n",
      "NaN count for volume_shock:  0\n",
      "NaN count for VOL_SHOCK_DIR:  177\n",
      "NaN count for price_t+1:  0\n",
      "NaN count for price_shock:  0\n",
      "NaN count for price_black_swan:  0\n",
      "NaN count for PRICE_SHOCK_DIR:  349\n",
      "NaN count for BLACK_SWAN_SHOCK_DIR:  349\n",
      "NaN count for not_vol_shock:  0\n",
      "NaN count for price_shock_w/0_vol_shock:  0\n"
     ]
    }
   ],
   "source": [
    "for i in range(1,len(columns)):\n",
    "    print('NaN count for {}: '.format(columns[i]), list(np.isnan(nifty[columns[i]])).count(True))"
   ]
  },
  {
   "cell_type": "code",
   "execution_count": null,
   "metadata": {},
   "outputs": [],
   "source": [
    "# Checking for correlation between the selected features"
   ]
  },
  {
   "cell_type": "code",
   "execution_count": 111,
   "metadata": {},
   "outputs": [],
   "source": [
    "features= ['Open','High','Close','Volume','Turnover','Day','Month','WeekOfYear','volume_shock','price_shock','not_vol_shock']"
   ]
  },
  {
   "cell_type": "code",
   "execution_count": 115,
   "metadata": {},
   "outputs": [
    {
     "data": {
      "text/plain": [
       "<matplotlib.axes._subplots.AxesSubplot at 0x7f843d7482b0>"
      ]
     },
     "execution_count": 115,
     "metadata": {},
     "output_type": "execute_result"
    },
    {
     "data": {
      "image/png": "[encoded data removed]",
      "text/plain": [
       "<Figure size 1080x1080 with 2 Axes>"
      ]
     },
     "metadata": {},
     "output_type": "display_data"
    }
   ],
   "source": [
    "\n",
    "sns.set(style=\"white\")\n",
    "\n",
    "# Generate a large random dataset\n",
    "rs = np.random.RandomState(33)\n",
    "# Compute the correlation matrix\n",
    "corr = nifty[features].corr()\n",
    "\n",
    "# Generate a mask for the upper triangle\n",
    "mask = np.zeros_like(corr, dtype=np.bool)\n",
    "mask[np.triu_indices_from(mask)] = True\n",
    "\n",
    "# Set up the matplotlib figure\n",
    "f, ax = plt.subplots(figsize=(15, 15))\n",
    "\n",
    "# Generate a custom diverging colormap\n",
    "cmap = sns.diverging_palette(220, 10, as_cmap=True)\n",
    "\n",
    "# Draw the heatmap with the mask and correct aspect ratio\n",
    "sns.heatmap(corr, mask=mask, cmap=cmap, vmax=.3, center=0,\n",
    "            square=True, linewidths=.5, cbar_kws={\"shrink\": .5})"
   ]
  },
  {
   "cell_type": "markdown",
   "metadata": {},
   "source": [
    "#### As expected, volume_shock and not_vol_shock must have a correlation of 1, made a mistake of including both !\n",
    "\n",
    "\n",
    "We can also see that (Open, high, close, volume and turnover) have a high correlation with week and month, and the color code is more or less the same, so perhaps we can make use of feature engineering to compress weekofyear and month into one"
   ]
  },
  {
   "cell_type": "markdown",
   "metadata": {},
   "source": [
    "### adding week and month seems like a simple but workable idea, so I'll do that."
   ]
  },
  {
   "cell_type": "code",
   "execution_count": 116,
   "metadata": {},
   "outputs": [
    {
     "name": "stderr",
     "output_type": "stream",
     "text": [
      "/usr/lib/python3/dist-packages/ipykernel_launcher.py:1: SettingWithCopyWarning: \n",
      "A value is trying to be set on a copy of a slice from a DataFrame.\n",
      "Try using .loc[row_indexer,col_indexer] = value instead\n",
      "\n",
      "See the caveats in the documentation: http://pandas.pydata.org/pandas-docs/stable/indexing.html#indexing-view-versus-copy\n",
      "  \"\"\"Entry point for launching an IPython kernel.\n"
     ]
    }
   ],
   "source": [
    "nifty['weekAndMonth'] = nifty['WeekOfYear'].values + nifty['Month'].values"
   ]
  },
  {
   "cell_type": "code",
   "execution_count": 128,
   "metadata": {},
   "outputs": [],
   "source": [
    "# Also, including day seems like a bad idea, since this dataset is augmented"
   ]
  },
  {
   "cell_type": "code",
   "execution_count": 129,
   "metadata": {},
   "outputs": [],
   "source": [
    "features= ['Open','High','Close','Volume','Turnover','weekAndMonth','volume_shock','price_shock']"
   ]
  },
  {
   "cell_type": "markdown",
   "metadata": {},
   "source": [
    "# Part 2 : Regression Modelling"
   ]
  },
  {
   "cell_type": "markdown",
   "metadata": {},
   "source": [
    ">Now that I have finalized on the features to be used and all other preprocessing, I'll now fit all of that into a single function so I can fit my testing data into that before predictions."
   ]
  },
  {
   "cell_type": "code",
   "execution_count": 169,
   "metadata": {},
   "outputs": [],
   "source": [
    "def preprocess_train(data,data_type='not train'):\n",
    "    data['Volume'] = scale_down(data['Volume'])\n",
    "    data['Turnover'] = scale_down(data['Turnover'],10)\n",
    "    data['vol_(t+1)'] = scale_down(data['vol_(t+1)'])\n",
    "    if(data_type=='train'):\n",
    "        data = data[:-1].copy()\n",
    "    data['weekAndMonth'] = data['WeekOfYear'].values + data['Month'].values\n",
    "    return data[features],data['price_t+1'].values"
   ]
  },
  {
   "cell_type": "code",
   "execution_count": null,
   "metadata": {},
   "outputs": [],
   "source": [
    "nifty = pd.read_csv('dataset/data_with_features/nifty.csv')\n",
    "infy = pd.read_csv('dataset/data_with_features/infy.csv')"
   ]
  },
  {
   "cell_type": "code",
   "execution_count": 159,
   "metadata": {},
   "outputs": [],
   "source": [
    "X_train,y_train = preprocess_train(nifty.copy(),'train')"
   ]
  },
  {
   "cell_type": "code",
   "execution_count": 170,
   "metadata": {},
   "outputs": [],
   "source": [
    "X_test_tcs,y_test_tcs = preprocess_train(tcs.copy())"
   ]
  },
  {
   "cell_type": "code",
   "execution_count": 174,
   "metadata": {},
   "outputs": [],
   "source": [
    "X_test_infy,y_test_infy = preprocess_train(infy.copy())"
   ]
  },
  {
   "cell_type": "markdown",
   "metadata": {},
   "source": [
    "#### I'll use l2 regression and emsemble methods for my predictions"
   ]
  },
  {
   "cell_type": "code",
   "execution_count": null,
   "metadata": {},
   "outputs": [],
   "source": []
  }
 ],
 "metadata": {
  "kernelspec": {
   "display_name": "Python 3",
   "language": "python",
   "name": "python3"
  },
  "language_info": {
   "codemirror_mode": {
    "name": "ipython",
    "version": 3
   },
   "file_extension": ".py",
   "mimetype": "text/x-python",
   "name": "python",
   "nbconvert_exporter": "python",
   "pygments_lexer": "ipython3",
   "version": "3.7.3"
  }
 },
 "nbformat": 4,
 "nbformat_minor": 2
}
