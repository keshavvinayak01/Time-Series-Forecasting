{
 "cells": [
  {
   "cell_type": "code",
   "execution_count": 1,
   "metadata": {},
   "outputs": [],
   "source": [
    "from nsepy import get_history\n",
    "from datetime import date\n",
    "import pandas as pd\n",
    "from nsepy.derivatives import get_expiry_date"
   ]
  },
  {
   "cell_type": "markdown",
   "metadata": {},
   "source": [
    "## Obtaining the data"
   ]
  },
  {
   "cell_type": "code",
   "execution_count": 13,
   "metadata": {},
   "outputs": [],
   "source": [
    "tcs = get_history(symbol='TCS',start=date(2015,1,1),end=date(2015,12,31))"
   ]
  },
  {
   "cell_type": "code",
   "execution_count": 8,
   "metadata": {},
   "outputs": [],
   "source": [
    "infy = get_history(symbol='INFY',start=date(2015,1,1),end=date(2015,12,31))"
   ]
  },
  {
   "cell_type": "code",
   "execution_count": 39,
   "metadata": {},
   "outputs": [],
   "source": [
    "# Doesn't work without the index attribute\n",
    "nifty_data = get_history(symbol=\"NIFTYIT\",start=date(2015,1,1),end=date(2015,12,31),index=True)"
   ]
  },
  {
   "cell_type": "code",
   "execution_count": 40,
   "metadata": {},
   "outputs": [
    {
     "name": "stdout",
     "output_type": "stream",
     "text": [
      "Index(['Open', 'High', 'Low', 'Close', 'Volume', 'Turnover'], dtype='object')\n"
     ]
    }
   ],
   "source": [
    "print(nifty_data.columns)"
   ]
  },
  {
   "cell_type": "code",
   "execution_count": 53,
   "metadata": {},
   "outputs": [],
   "source": [
    "#Making columns consistent for all data\n",
    "infy_data = infy[['Open', 'High', 'Low', 'Close', 'Volume', 'Turnover']]\n",
    "tcs_data = tcs[['Open', 'High', 'Low', 'Close', 'Volume', 'Turnover']]"
   ]
  },
  {
   "cell_type": "code",
   "execution_count": 52,
   "metadata": {},
   "outputs": [
    {
     "name": "stdout",
     "output_type": "stream",
     "text": [
      "\n",
      "\n",
      "\t\t\t\tINFY\n",
      "\n",
      "\n",
      "                Open     High     Low    Close   Volume      Turnover\n",
      "Date                                                                \n",
      "2015-01-01  1968.95  1982.00  1956.9  1974.40   500691  9.870306e+13\n",
      "2015-01-02  1972.00  2019.05  1972.0  2013.20  1694580  3.394669e+14\n",
      "2015-01-05  2009.90  2030.00  1977.5  1995.90  2484256  4.979911e+14\n",
      "2015-01-06  1980.00  1985.00  1934.1  1954.20  2416829  4.724458e+14\n",
      "2015-01-07  1965.00  1974.75  1950.0  1963.55  1812479  3.557162e+14 \n",
      "\n",
      "\t\t\t\tTCS\n",
      "\n",
      "\n",
      "               Open     High      Low    Close   Volume      Turnover\n",
      "Date                                                                \n",
      "2015-01-01  2567.0  2567.00  2541.00  2545.55   183415  4.674345e+13\n",
      "2015-01-02  2551.0  2590.95  2550.60  2579.45   462870  1.188740e+14\n",
      "2015-01-05  2581.0  2599.90  2524.65  2540.25   877121  2.248886e+14\n",
      "2015-01-06  2529.1  2529.10  2440.00  2446.60  1211892  2.989615e+14\n",
      "2015-01-07  2470.0  2479.15  2407.45  2417.70  1318166  3.208362e+14 \n",
      "\n",
      "\t\t\t\tNIFTY\n",
      "\n",
      "\n",
      "                 Open      High       Low     Close    Volume      Turnover\n",
      "Date                                                                      \n",
      "2015-01-01  11214.80  11235.75  11166.35  11215.70   4246150  3.575100e+09\n",
      "2015-01-02  11214.65  11399.10  11214.65  11372.10  10004862  9.645600e+09\n",
      "2015-01-05  11369.35  11433.75  11186.95  11248.55   8858018  1.059000e+10\n",
      "2015-01-06  11186.10  11186.10  10909.00  10959.90  12515739  1.364500e+10\n",
      "2015-01-07  11013.20  11042.35  10889.55  10916.00  10976356  1.203440e+10\n"
     ]
    }
   ],
   "source": [
    "#Checking for consistency in data\n",
    "print('\\n\\n\\t\\t\\t\\tINFY\\n\\n\\n',infy_data.head(),'\\n\\n\\t\\t\\t\\tTCS\\n\\n\\n',tcs_data.head(),'\\n\\n\\t\\t\\t\\tNIFTY\\n\\n\\n',nifty_data.head())"
   ]
  },
  {
   "cell_type": "markdown",
   "metadata": {},
   "source": [
    "## Writing out the data"
   ]
  },
  {
   "cell_type": "code",
   "execution_count": 59,
   "metadata": {},
   "outputs": [],
   "source": [
    "nifty_data.to_csv('dataset/nifty_data.csv', encoding='utf-8', index=False)"
   ]
  },
  {
   "cell_type": "code",
   "execution_count": 60,
   "metadata": {},
   "outputs": [],
   "source": [
    "tcs_data.to_csv('dataset/tcs_data.csv', encoding='utf-8', index=False)"
   ]
  },
  {
   "cell_type": "code",
   "execution_count": 61,
   "metadata": {},
   "outputs": [],
   "source": [
    "infy_data.to_csv('dataset/infy_data.csv', encoding='utf-8', index=False)"
   ]
  },
  {
   "cell_type": "code",
   "execution_count": null,
   "metadata": {},
   "outputs": [],
   "source": []
  }
 ],
 "metadata": {
  "kernelspec": {
   "display_name": "Python 3",
   "language": "python",
   "name": "python3"
  },
  "language_info": {
   "codemirror_mode": {
    "name": "ipython",
    "version": 3
   },
   "file_extension": ".py",
   "mimetype": "text/x-python",
   "name": "python",
   "nbconvert_exporter": "python",
   "pygments_lexer": "ipython3",
   "version": "3.7.3"
  }
 },
 "nbformat": 4,
 "nbformat_minor": 2
}
